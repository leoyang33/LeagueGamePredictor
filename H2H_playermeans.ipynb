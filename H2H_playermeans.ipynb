{
  "nbformat": 4,
  "nbformat_minor": 0,
  "metadata": {
    "colab": {
      "provenance": [],
      "toc_visible": true
    },
    "kernelspec": {
      "name": "python3",
      "display_name": "Python 3"
    },
    "language_info": {
      "name": "python"
    }
  },
  "cells": [
    {
      "cell_type": "code",
      "execution_count": null,
      "metadata": {
        "id": "PNMyomdEPGJj"
      },
      "outputs": [],
      "source": [
        "import pandas as pd\n",
        "import numpy as np"
      ]
    },
    {
      "cell_type": "code",
      "source": [
        "!wget -O allgames.csv \"https://raw.githubusercontent.com/leoyang33/LeagueGamePredictor/main/data/2023_LoL_esports_match_data_from_OraclesElixir_20230421.csv\""
      ],
      "metadata": {
        "colab": {
          "base_uri": "https://localhost:8080/"
        },
        "id": "F-oqRHmvPL8x",
        "outputId": "934ac25c-4868-4f38-a678-52661e08d75f"
      },
      "execution_count": null,
      "outputs": [
        {
          "output_type": "stream",
          "name": "stdout",
          "text": [
            "--2023-05-25 03:08:56--  https://raw.githubusercontent.com/leoyang33/LeagueGamePredictor/main/data/2023_LoL_esports_match_data_from_OraclesElixir_20230421.csv\n",
            "Resolving raw.githubusercontent.com (raw.githubusercontent.com)... 185.199.108.133, 185.199.109.133, 185.199.110.133, ...\n",
            "Connecting to raw.githubusercontent.com (raw.githubusercontent.com)|185.199.108.133|:443... connected.\n",
            "HTTP request sent, awaiting response... 200 OK\n",
            "Length: 30279385 (29M) [text/plain]\n",
            "Saving to: ‘allgames.csv’\n",
            "\n",
            "allgames.csv        100%[===================>]  28.88M  --.-KB/s    in 0.1s    \n",
            "\n",
            "2023-05-25 03:08:57 (227 MB/s) - ‘allgames.csv’ saved [30279385/30279385]\n",
            "\n"
          ]
        }
      ]
    },
    {
      "cell_type": "code",
      "source": [
        "allgames = pd.read_csv('allgames.csv')"
      ],
      "metadata": {
        "id": "J6oi3yVDPL_L"
      },
      "execution_count": null,
      "outputs": []
    },
    {
      "cell_type": "code",
      "source": [
        "nagames = allgames.loc[(allgames['league'] == 'LCS') & (allgames['playoffs'] == 0)]"
      ],
      "metadata": {
        "id": "Y08aJH28PMBr"
      },
      "execution_count": null,
      "outputs": []
    },
    {
      "cell_type": "code",
      "source": [
        "players = nagames['playername'].dropna().unique()"
      ],
      "metadata": {
        "id": "oBr_BSZXPMEh"
      },
      "execution_count": null,
      "outputs": []
    },
    {
      "cell_type": "code",
      "source": [
        "cols = ['kills','deaths','assists','doublekills','triplekills','quadrakills','pentakills','damagetochampions','dpm','damageshare','damagetakenperminute','wardsplaced','wpm','controlwardsbought','vspm','totalgold','earned gpm','earnedgoldshare','cspm','golddiffat10','xpdiffat10','csdiffat10','golddiffat15','xpdiffat15','csdiffat15','gamelength']"
      ],
      "metadata": {
        "id": "tnazWvv5SD01"
      },
      "execution_count": null,
      "outputs": []
    },
    {
      "cell_type": "code",
      "source": [
        "data = []\n",
        "\n",
        "for player in players:\n",
        "    pdata = [player]\n",
        "    df = nagames.loc[nagames['playername'] == player]\n",
        "    for c in cols:\n",
        "        avg = round(df[c].mean(),4)\n",
        "        pdata.append(avg)\n",
        "    data.append(pdata)"
      ],
      "metadata": {
        "id": "di--iAJTSD61"
      },
      "execution_count": null,
      "outputs": []
    },
    {
      "cell_type": "code",
      "source": [
        "df2 = pd.DataFrame(data,columns=['player']+cols)"
      ],
      "metadata": {
        "id": "Rh5Ye2xA4cIr"
      },
      "execution_count": null,
      "outputs": []
    },
    {
      "cell_type": "code",
      "source": [
        "df2.to_csv('H2H_lcsplayeraverages.csv', index=False)"
      ],
      "metadata": {
        "id": "d9HxSXoc4cLZ"
      },
      "execution_count": null,
      "outputs": []
    },
    {
      "cell_type": "code",
      "source": [],
      "metadata": {
        "id": "hz8810im4cOI"
      },
      "execution_count": null,
      "outputs": []
    },
    {
      "cell_type": "code",
      "source": [],
      "metadata": {
        "id": "9EwbS-lX4cQp"
      },
      "execution_count": null,
      "outputs": []
    },
    {
      "cell_type": "code",
      "source": [],
      "metadata": {
        "id": "6i-0BaO74cTS"
      },
      "execution_count": null,
      "outputs": []
    }
  ]
}